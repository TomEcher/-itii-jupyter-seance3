{
 "cells": [
  {
   "cell_type": "markdown",
   "metadata": {},
   "source": [
    "#Numpy et Array\n",
    "\n",
    "La bibliothèque NumPy (http://www.numpy.org/) permet d’effectuer des calculs numériques avec Python. Elle introduit une gestion facilitée des tableaux de nombres.\n",
    "\n",
    "Il faut au départ importer le package numpy avec l’instruction suivante :"
   ]
  },
  {
   "cell_type": "code",
   "execution_count": 1,
   "metadata": {},
   "outputs": [],
   "source": [
    "import numpy as np"
   ]
  },
  {
   "cell_type": "markdown",
   "metadata": {},
   "source": [
    "Les tableaux - numpy.array()\n",
    "\n",
    "Les tableaux  peuvent être créés avec numpy.array(). On utilise des crochets pour délimiter les listes d’éléments dans les tableaux.\n",
    "\n"
   ]
  },
  {
   "cell_type": "code",
   "execution_count": 11,
   "metadata": {},
   "outputs": [],
   "source": [
    "a = np.array([[1, 2, 3], [4, 5, 6]])"
   ]
  },
  {
   "cell_type": "markdown",
   "metadata": {},
   "source": [
    "Accès aux éléments d’un tableau :"
   ]
  },
  {
   "cell_type": "code",
   "execution_count": 14,
   "metadata": {},
   "outputs": [
    {
     "name": "stdout",
     "output_type": "stream",
     "text": [
      "6\n"
     ]
    }
   ],
   "source": [
    "print(a[1,2])"
   ]
  },
  {
   "cell_type": "markdown",
   "metadata": {},
   "source": [
    "La fonction numpy.arange() permet de créer des listes en fonction de certain parametres:"
   ]
  },
  {
   "cell_type": "code",
   "execution_count": 28,
   "metadata": {},
   "outputs": [
    {
     "name": "stdout",
     "output_type": "stream",
     "text": [
      "[  3.           6.14159265   9.28318531  12.42477796  15.56637061\n",
      "  18.70796327  21.84955592  24.99114858  28.13274123  31.27433388\n",
      "  34.41592654  37.55751919  40.69911184  43.8407045   46.98229715\n",
      "  50.1238898   53.26548246  56.40707511  59.54866776  62.69026042\n",
      "  65.83185307  68.97344573  72.11503838  75.25663103  78.39822369\n",
      "  81.53981634  84.68140899  87.82300165  90.9645943   94.10618695\n",
      "  97.24777961 100.38937226 103.53096491 106.67255757 109.81415022\n",
      " 112.95574288 116.09733553 119.23892818 122.38052084 125.52211349\n",
      " 128.66370614 131.8052988  134.94689145 138.0884841  141.23007676\n",
      " 144.37166941 147.51326207 150.65485472 153.79644737 156.93804003\n",
      " 160.07963268 163.22122533 166.36281799 169.50441064 172.64600329\n",
      " 175.78759595 178.9291886  182.07078125 185.21237391 188.35396656\n",
      " 191.49555922 194.63715187 197.77874452 200.92033718 204.06192983\n",
      " 207.20352248 210.34511514 213.48670779 216.62830044 219.7698931\n",
      " 222.91148575 226.0530784  229.19467106 232.33626371 235.47785637\n",
      " 238.61944902 241.76104167 244.90263433 248.04422698 251.18581963\n",
      " 254.32741229 257.46900494 260.61059759 263.75219025 266.8937829\n",
      " 270.03537556 273.17696821 276.31856086 279.46015352 282.60174617\n",
      " 285.74333882 288.88493148 292.02652413 295.16811678 298.30970944\n",
      " 301.45130209 304.59289474 307.7344874  310.87608005 314.01767271\n",
      " 317.15926536 320.30085801 323.44245067 326.58404332 329.72563597\n",
      " 332.86722863 336.00882128 339.15041393 342.29200659 345.43359924\n",
      " 348.57519189 351.71678455 354.8583772  357.99996986 361.14156251\n",
      " 364.28315516 367.42474782 370.56634047 373.70793312 376.84952578\n",
      " 379.99111843 383.13271108 386.27430374 389.41589639 392.55748905\n",
      " 395.6990817  398.84067435 401.98226701 405.12385966 408.26545231\n",
      " 411.40704497 414.54863762 417.69023027 420.83182293 423.97341558\n",
      " 427.11500823 430.25660089 433.39819354 436.5397862  439.68137885\n",
      " 442.8229715  445.96456416 449.10615681 452.24774946 455.38934212\n",
      " 458.53093477 461.67252742 464.81412008 467.95571273 471.09730538\n",
      " 474.23889804 477.38049069 480.52208335 483.663676   486.80526865\n",
      " 489.94686131 493.08845396 496.23004661 499.37163927 502.51323192\n",
      " 505.65482457 508.79641723 511.93800988 515.07960254 518.22119519\n",
      " 521.36278784 524.5043805  527.64597315 530.7875658  533.92915846\n",
      " 537.07075111 540.21234376 543.35393642 546.49552907 549.63712172\n",
      " 552.77871438 555.92030703 559.06189969 562.20349234 565.34508499\n",
      " 568.48667765 571.6282703  574.76986295 577.91145561 581.05304826\n",
      " 584.19464091 587.33623357 590.47782622 593.61941887 596.76101153\n",
      " 599.90260418 603.04419684 606.18578949 609.32738214 612.4689748\n",
      " 615.61056745 618.7521601  621.89375276 625.03534541 628.17693806\n",
      " 631.31853072 634.46012337 637.60171603 640.74330868 643.88490133\n",
      " 647.02649399 650.16808664 653.30967929 656.45127195 659.5928646\n",
      " 662.73445725 665.87604991 669.01764256 672.15923521 675.30082787\n",
      " 678.44242052 681.58401318 684.72560583 687.86719848 691.00879114\n",
      " 694.15038379 697.29197644 700.4335691  703.57516175 706.7167544\n",
      " 709.85834706 712.99993971 716.14153236 719.28312502 722.42471767\n",
      " 725.56631033 728.70790298 731.84949563 734.99108829 738.13268094\n",
      " 741.27427359 744.41586625 747.5574589  750.69905155 753.84064421\n",
      " 756.98223686 760.12382952 763.26542217 766.40701482 769.54860748\n",
      " 772.69020013 775.83179278 778.97338544 782.11497809 785.25657074\n",
      " 788.3981634  791.53975605 794.6813487  797.82294136 800.96453401\n",
      " 804.10612667 807.24771932 810.38931197 813.53090463 816.67249728\n",
      " 819.81408993 822.95568259 826.09727524 829.23886789 832.38046055\n",
      " 835.5220532  838.66364585 841.80523851 844.94683116 848.08842382\n",
      " 851.23001647 854.37160912 857.51320178 860.65479443 863.79638708\n",
      " 866.93797974 870.07957239 873.22116504 876.3627577  879.50435035\n",
      " 882.64594301 885.78753566 888.92912831 892.07072097 895.21231362\n",
      " 898.35390627 901.49549893 904.63709158 907.77868423 910.92027689\n",
      " 914.06186954 917.20346219 920.34505485 923.4866475  926.62824016\n",
      " 929.76983281 932.91142546 936.05301812 939.19461077 942.33620342\n",
      " 945.47779608 948.61938873 951.76098138 954.90257404 958.04416669\n",
      " 961.18575934 964.327352   967.46894465 970.61053731 973.75212996\n",
      " 976.89372261 980.03531527 983.17690792 986.31850057 989.46009323\n",
      " 992.60168588 995.74327853 998.88487119]\n"
     ]
    }
   ],
   "source": [
    "m = np.arange(3, 999, np.pi)\n",
    "print(m)"
   ]
  },
  {
   "cell_type": "markdown",
   "metadata": {},
   "source": [
    "La fonction numpy.linspace() permet d’obtenir un tableau 1D allant d’une valeur de départ à une valeur de fin avec un nombre donné d’éléments."
   ]
  },
  {
   "cell_type": "code",
   "execution_count": 33,
   "metadata": {},
   "outputs": [
    {
     "data": {
      "text/plain": [
       "array([3., 4., 5., 6., 7., 8., 9.])"
      ]
     },
     "execution_count": 33,
     "metadata": {},
     "output_type": "execute_result"
    }
   ],
   "source": [
    "np.linspace(3, 9, 7)"
   ]
  },
  {
   "cell_type": "markdown",
   "metadata": {},
   "source": [
    "Pour toutes les fonctions que propose numpy, vous pouvez consulter la documentation : https://numpy.org/doc/\n",
    "\n",
    "Le typage faible et dynamique et les limites du language interperté fait de python une solution lente pour traiter les tableaux de grande taille. \n",
    "Dans beaucoup de cas, Numpy fournit une interface pour les opérations standard qui n'implique que des données du même type. Par exemple, on peut calculer les inverses de tous les éléments d'un tableau Numpy :"
   ]
  },
  {
   "cell_type": "code",
   "execution_count": 34,
   "metadata": {},
   "outputs": [],
   "source": [
    "tableau_large = np.random.randint(1, 100, size=1000000)\n",
    "tableau_large = 1.0 / tableau_large"
   ]
  },
  {
   "cell_type": "markdown",
   "metadata": {},
   "source": [
    "Ex 1 :  théorème des valeurs intermédiaires\n",
    "1. Rappel\n",
    "Soit f  une fonction continue définie sur un intervalle I et, a et b deux réels de I.Pour tout réel k compris entre f(a) et f(b), il existe au moins un réel c compris entre a et b tel que f(c)=k.\n",
    "\n",
    "Soit f une fonction continue et strictement monotone sur un intervalle [a;b].Pour tout nombre k compris entre f(a) et f(b), l'équation f(x)=kadmet une unique solution dans l'intervalle [a;b].\n",
    "\n",
    "2. Application\n",
    "Nous considérons dans cet exercice la fonction:fdéfinie sur l'intervalle [0;1], par: f(x)=x^3+2x−2\n",
    "Par la conséquence du théorème des valeurs intermédiaires :  l'équation f(x)=0 admet une unique solution x_0 dans [0;1]\n",
    "* vérifier continuité et stricte monotonie de f sur [0;1]\n",
    "* Pour savoir si x0 se trouve dans [0;0,5]ou dans [0,5;1], il faut vérifier si f(0) et f(0,5)  sont de mêmes signes\n",
    "* proposer un algorithme de recherche pour évaluer x_0 en fonction de $N$, donner par l'utilisateur\n"
   ]
  },
  {
   "cell_type": "code",
   "execution_count": 3,
   "metadata": {},
   "outputs": [
    {
     "name": "stdout",
     "output_type": "stream",
     "text": [
      "4\n"
     ]
    },
    {
     "data": {
      "image/png": "[encoded data removed]",
      "text/plain": [
       "<Figure size 432x288 with 1 Axes>"
      ]
     },
     "metadata": {
      "needs_background": "light"
     },
     "output_type": "display_data"
    },
    {
     "name": "stdout",
     "output_type": "stream",
     "text": [
      "0.78125\n"
     ]
    }
   ],
   "source": [
    "def fonction(val):\n",
    "    return val**3+2*val-2\n",
    "\n",
    "import matplotlib.pyplot as plt\n",
    "\n",
    "x = np.linspace(0, 1, 1000)\n",
    "y = x**3+2*x-2\n",
    "plt.plot(x, y)\n",
    "a = 0\n",
    "b = 1\n",
    "n = input()\n",
    "plt.show()\n",
    "for i in range(int(n)):\n",
    "    xm = (a+b)/2\n",
    "    if (fonction(a)*fonction(xm)) < 0:\n",
    "        b = xm\n",
    "    else:\n",
    "        a = xm\n",
    "\n",
    "print((a+b)/2)\n",
    "\n",
    "\n"
   ]
  },
  {
   "cell_type": "markdown",
   "metadata": {},
   "source": [
    "Ex 2: Carrés magiques\n",
    "Un carré magique est un tableau carré de taille n×n qui contient tous les entiers de 1 à n et qui vérifie que : la somme de chaque ligne, la somme de chaque colonne, la somme de la diagonale principale et la somme de l’anti-diagonale ont toutes la même valeur.\n",
    "\n",
    "Pour un carré magique de taillen×n, la valeur de la somme est : S_n=n(n^2+1)/2\n",
    "\n",
    "1. Définir un tableau pour chacun des exemples 3×3 et 4×4\n",
    "2. Définir une fonctionest_carre_magique(carre)qui teste si un tableaudonné est (ou pas) un carré magique\n",
    "3. Génèrer de façon aléatoire des carrés contenant les entiers de1 àn2grâce à une fonctioncarre_aleatoire(n). \n",
    "4. Définir la probabilité d'obtenir un carrée magique\n",
    "5. Définir une fonctionaddition_carre(carre,k)qui ajoute un entierkà tous les élé-ments du carré.\n"
   ]
  },
  {
   "cell_type": "code",
   "execution_count": 25,
   "metadata": {},
   "outputs": [
    {
     "name": "stdout",
     "output_type": "stream",
     "text": [
      "Horizontal OK\n",
      "Vertical NOK\n"
     ]
    }
   ],
   "source": [
    "n=3\n",
    "\n",
    "def est_CM(val):\n",
    "    n = val.shape[0]\n",
    "    val2= n*(n**2+1)/2\n",
    "    vh = 0;\n",
    "    vv = 0;\n",
    "    vd = 0;\n",
    "    for i in range(n):\n",
    "        h = 0;\n",
    "        v = 0;\n",
    "        d = 0;\n",
    "        for y in range(n):\n",
    "            h = h + val[i,y]\n",
    "        if h == val2:\n",
    "            vh = vh +1\n",
    "        for y in range(n):\n",
    "            v = v + val[y,i]\n",
    "        if v == val2:\n",
    "            vv = vv +1            \n",
    "    if vh == n:\n",
    "        print(\"Horizontal OK\")\n",
    "    else :\n",
    "        print(\"Horizontal NOK\")\n",
    "    if vv == n:\n",
    "        print(\"Vertical OK\")\n",
    "    else :\n",
    "        print(\"Vertical NOK\")\n",
    "    \n",
    "arr = np.array([[2, 7, 6], [11, 3, 1],[4, 3, 8]])\n",
    "est_CM(arr)\n",
    "\n",
    "\n"
   ]
  },
  {
   "cell_type": "code",
   "execution_count": null,
   "metadata": {},
   "outputs": [],
   "source": []
  }
 ],
 "metadata": {
  "kernelspec": {
   "display_name": "Python 3",
   "language": "python",
   "name": "python3"
  },
  "language_info": {
   "codemirror_mode": {
    "name": "ipython",
    "version": 3
   },
   "file_extension": ".py",
   "mimetype": "text/x-python",
   "name": "python",
   "nbconvert_exporter": "python",
   "pygments_lexer": "ipython3",
   "version": "3.7.0"
  }
 },
 "nbformat": 4,
 "nbformat_minor": 4
}
